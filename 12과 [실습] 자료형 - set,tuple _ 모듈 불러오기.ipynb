{
 "cells": [
  {
   "cell_type": "markdown",
   "id": "ad06513c",
   "metadata": {
    "id": "334d0a98"
   },
   "source": [
    "# chapter 11. 자료형 - set, tuple & 모듈 불러오기"
   ]
  },
  {
   "cell_type": "markdown",
   "id": "4d262cc2",
   "metadata": {
    "id": "65384371"
   },
   "source": [
    "## 1) 자료형 - set"
   ]
  },
  {
   "cell_type": "markdown",
   "id": "95f2b38c",
   "metadata": {
    "id": "phQwHB-c1F_f"
   },
   "source": [
    "① 1, 2, 3, 4로 구성된 집합 set1을 만들어 출력하고 자료형을 확인해보시오.  \n",
    "* 힌트: type(집합)"
   ]
  },
  {
   "cell_type": "code",
   "execution_count": 1,
   "id": "cd090a77",
   "metadata": {
    "id": "f7f390f7"
   },
   "outputs": [
    {
     "name": "stdout",
     "output_type": "stream",
     "text": [
      "{1, 2, 3, 4}\n",
      "<class 'set'>\n"
     ]
    }
   ],
   "source": []
  },
  {
   "cell_type": "markdown",
   "id": "eb046c25",
   "metadata": {
    "id": "R8qjqxx91K1L"
   },
   "source": [
    "② 위에서 생성한 set1에 새로운 값 5를 추가하고 결과를 확인한 뒤,  \n",
    "또 다시 새로운 값 3을 추가하고 결과를 확인하시오.  \n",
    "* 힌트: 집합.add(추가할 값)"
   ]
  },
  {
   "cell_type": "code",
   "execution_count": 2,
   "id": "50dab341",
   "metadata": {
    "id": "9339877b"
   },
   "outputs": [
    {
     "name": "stdout",
     "output_type": "stream",
     "text": [
      "{1, 2, 3, 4, 5}\n",
      "{1, 2, 3, 4, 5}\n"
     ]
    }
   ],
   "source": []
  },
  {
   "cell_type": "markdown",
   "id": "b2102763",
   "metadata": {
    "id": "cphdmzBc1ShM"
   },
   "source": [
    "③ 'h', 'e', 'l', 'l', 'o'로 구성된 집합 set2을 만들어 출력하고 자료형을 확인해보시오.\n"
   ]
  },
  {
   "cell_type": "code",
   "execution_count": 2,
   "id": "06f3d492",
   "metadata": {
    "id": "842c747a"
   },
   "outputs": [
    {
     "name": "stdout",
     "output_type": "stream",
     "text": [
      "<class 'set'>\n",
      "{'l', 'o', 'e', 'h'}\n"
     ]
    }
   ],
   "source": [
    "set2 = {'h','e','l','l','o'}\n",
    "print(type(set2))\n",
    "print(set2)"
   ]
  },
  {
   "cell_type": "markdown",
   "id": "352922f3",
   "metadata": {
    "id": "JghQ4JUq1Vwh"
   },
   "source": [
    "④ 위에서 생성한 set2에 새로운 값 'w', 'o', 'r', 'l', 'd'를 추가하고 결과를 확인하시오."
   ]
  },
  {
   "cell_type": "code",
   "execution_count": 5,
   "id": "c6a53cd3",
   "metadata": {
    "id": "73e3d591"
   },
   "outputs": [
    {
     "name": "stdout",
     "output_type": "stream",
     "text": [
      "{'w', 'e', 'd', 'h', 'l', 'o', 'r'}\n"
     ]
    }
   ],
   "source": [
    "set2.add('w')\n",
    "set2.add('o')\n",
    "set2.add('r')\n",
    "set2.add('l')\n",
    "set2.add('d')\n",
    "\n",
    "print(set2)"
   ]
  },
  {
   "cell_type": "markdown",
   "id": "14a9f008",
   "metadata": {
    "id": "9ca1d270"
   },
   "source": [
    "## 2) 자료형 - tuple"
   ]
  },
  {
   "cell_type": "markdown",
   "id": "d88fa224",
   "metadata": {
    "id": "ZfGLIWb71YTz"
   },
   "source": [
    "① 23.5, 10.1로 구성된 튜플 t1과 1, 2, 3, 4, 5로 구성된 튜플 t2를 각각 만들어 출력하고 자료형을 확인하시오.  \n",
    "* 힌트: type(튜플)"
   ]
  },
  {
   "cell_type": "code",
   "execution_count": 155,
   "id": "357b8593",
   "metadata": {
    "id": "f778bb3a"
   },
   "outputs": [
    {
     "name": "stdout",
     "output_type": "stream",
     "text": [
      "(23.5, 10.1)\n",
      "<class 'tuple'>\n",
      "(1, 2, 3, 4, 5)\n",
      "<class 'tuple'>\n"
     ]
    }
   ],
   "source": [
    "t1 = (23.5,10.1)\n",
    "print(t1)\n",
    "print(type(t1))\n",
    "\n",
    "t2 = (1,2,3,4,5)\n",
    "print(t2)\n",
    "print(type(t2))"
   ]
  },
  {
   "cell_type": "markdown",
   "id": "a198353b",
   "metadata": {
    "id": "uh23gQVb1jo_"
   },
   "source": [
    "② 1, 2, 3, 4, 5로 구성된 튜플 t2에서 인덱스를 사용하여 첫 번째 값과 세 번째 값을 조회하시오."
   ]
  },
  {
   "cell_type": "code",
   "execution_count": 150,
   "id": "d95aa7cd",
   "metadata": {
    "id": "00beb53e"
   },
   "outputs": [
    {
     "name": "stdout",
     "output_type": "stream",
     "text": [
      "1\n",
      "3\n"
     ]
    }
   ],
   "source": [
    "print(t2[0])\n",
    "print(t2[2])"
   ]
  },
  {
   "cell_type": "markdown",
   "id": "789e2c66",
   "metadata": {
    "id": "cPHsFQtw1mXB"
   },
   "source": [
    "③ empty라는 이름으로 비어 있는 튜플을 만들고 튜플의 자료형을 확인하시오."
   ]
  },
  {
   "cell_type": "code",
   "execution_count": 7,
   "id": "7f05acaf",
   "metadata": {
    "id": "3458fe5b"
   },
   "outputs": [
    {
     "name": "stdout",
     "output_type": "stream",
     "text": [
      "<class 'tuple'>\n"
     ]
    }
   ],
   "source": [
    "empty = ()\n",
    "\n",
    "print(type(empty))"
   ]
  },
  {
   "cell_type": "markdown",
   "id": "324d9eb4",
   "metadata": {
    "id": "GddN6l121oQY"
   },
   "source": [
    "④ 튜플 t3가 1, 3, 5, 7, 9로 구성되어 있다고 할 때, 인덱스를 사용하여 튜플의 세 번째부터 마지막 값을 출력하시오.\n"
   ]
  },
  {
   "cell_type": "code",
   "execution_count": 9,
   "id": "a6ad68e3",
   "metadata": {
    "id": "bfa77ac2"
   },
   "outputs": [
    {
     "name": "stdout",
     "output_type": "stream",
     "text": [
      "(5, 7, 9)\n"
     ]
    }
   ],
   "source": [
    "t3 = (1,3,5,7,9)\n",
    "\n",
    "print(t3[2:])"
   ]
  },
  {
   "cell_type": "markdown",
   "id": "95c153ef",
   "metadata": {
    "id": "0a098884"
   },
   "source": [
    "## 3) 라이브러리(패키지), 모듈, 함수"
   ]
  },
  {
   "cell_type": "markdown",
   "id": "9b5ae41d",
   "metadata": {
    "id": "PDIOMJZM1rjF"
   },
   "source": [
    "① import로 math 라이브러리를 불러와 봅시다. 불러온 라이브러리를 활용하여 팩토리얼 계산을 해 봅시다.  \n",
    "팩토리얼 계산 함수는 n!을 계산할 때 factorial(n)이다. "
   ]
  },
  {
   "cell_type": "code",
   "execution_count": 149,
   "id": "0cdce31e",
   "metadata": {
    "id": "80d31d90"
   },
   "outputs": [
    {
     "data": {
      "text/plain": [
       "6"
      ]
     },
     "execution_count": 149,
     "metadata": {},
     "output_type": "execute_result"
    }
   ],
   "source": [
    "import math\n",
    "\n",
    "math.factorial(3)"
   ]
  },
  {
   "cell_type": "markdown",
   "id": "de6b7a89",
   "metadata": {
    "id": "lgJOPUcg1vbA"
   },
   "source": [
    "② 이번에는 import로 불러온 라이브러리에 별칭을 붙여 봅시다.   \n",
    "math 라이브러리를 불러오며 m이라는 별칭을 붙여 주고,  \n",
    "팩토리얼 계산을 해 봅시다."
   ]
  },
  {
   "cell_type": "code",
   "execution_count": 146,
   "id": "405dd5d0",
   "metadata": {
    "id": "250d3f9d"
   },
   "outputs": [
    {
     "data": {
      "text/plain": [
       "6"
      ]
     },
     "execution_count": 146,
     "metadata": {},
     "output_type": "execute_result"
    }
   ],
   "source": [
    "import math as m\n",
    "m.factorial(3)"
   ]
  },
  {
   "cell_type": "markdown",
   "id": "952c4125",
   "metadata": {
    "id": "KN3iayTi10C6"
   },
   "source": [
    "③ 이번에는 math 라이브러리에서 factorial 함수만 불러와서 팩토리얼 계산을 해 봅시다."
   ]
  },
  {
   "cell_type": "code",
   "execution_count": 148,
   "id": "a498534e",
   "metadata": {
    "id": "77d10052"
   },
   "outputs": [
    {
     "data": {
      "text/plain": [
       "6"
      ]
     },
     "execution_count": 148,
     "metadata": {},
     "output_type": "execute_result"
    }
   ],
   "source": [
    "from math import factorial\n",
    "\n",
    "factorial(3)"
   ]
  },
  {
   "cell_type": "markdown",
   "id": "a8f52068",
   "metadata": {
    "id": "KN3iayTi10C6"
   },
   "source": [
    "④ random 라이브러리 사용하기\n",
    "* random 라이브러리를 rd 별칭으로 불러옵시다.\n",
    "* randint 함수를 사용해 봅시다.\n",
    "    * randint(a,b) : a부터 b 사이의 임의의 숫자를 반환합니다."
   ]
  },
  {
   "cell_type": "code",
   "execution_count": 145,
   "id": "a42c901c",
   "metadata": {
    "id": "77d10052"
   },
   "outputs": [
    {
     "data": {
      "text/plain": [
       "7"
      ]
     },
     "execution_count": 145,
     "metadata": {},
     "output_type": "execute_result"
    }
   ],
   "source": [
    "import random as rd\n",
    "\n",
    "rd.randint(6,8)\n"
   ]
  },
  {
   "cell_type": "markdown",
   "id": "c9d7e0c9",
   "metadata": {
    "id": "z4DCZDyu13kD"
   },
   "source": [
    "⑤ [심화] 주사위를 던져서 나온 숫자들의 총합을 구하는 코드를 작성해 봅시다.\n",
    "* 주사위를 던질 횟수를 받는 변수 count(숫자)\n",
    "* count 만큼 주사위를 던져서 나온 모든 숫자들의 합 구해 봅시다.\n",
    "* 주사위의 각 면에는 1 ~ 6까지의 눈이 새겨져 있고, 각 숫자는 무작위로 나옵니다.(randint 함수 사용)\n",
    "\n",
    "* 힌트 : 주사위를 던져 나온 수들을 리스트에 저장하고, sum 함수를 이용해 봅시다."
   ]
  },
  {
   "cell_type": "code",
   "execution_count": null,
   "id": "a9a6a7b5",
   "metadata": {},
   "outputs": [],
   "source": [
    "count = int(input())\n",
    "import random as rd\n",
    "total = 0\n",
    "n = 0\n",
    "\n",
    "for i in range(count):\n",
    "    n = rd.randint(1,6)\n",
    "    total += n \n",
    "    print(n)\n",
    "\n",
    "print(total)"
   ]
  },
  {
   "cell_type": "code",
   "execution_count": 4,
   "id": "53292406",
   "metadata": {
    "id": "2558fc12"
   },
   "outputs": [
    {
     "name": "stdout",
     "output_type": "stream",
     "text": [
      "5\n",
      "[5, 5, 5, 3, 6]\n",
      "24\n"
     ]
    }
   ],
   "source": [
    "count = int(input())\n",
    "L1 = []\n",
    "import random as rd\n",
    "\n",
    "\n",
    "while count < 10 :\n",
    "    L1.append(rd.randint(1,6))\n",
    "    count += 1\n",
    "\n",
    "print(L1)\n",
    "print(sum(L1))\n",
    "\n"
   ]
  },
  {
   "cell_type": "markdown",
   "id": "08525182",
   "metadata": {},
   "source": [
    "⑥ [심화] 주사위 두개를 한꺼번에 던져서 나온 두 숫자의 합을 구하고, 이를 여러번 시행했을 때의 평균 값을 구해 봅시다.\n",
    "\n",
    "* 주사위 2개를 던질 횟수 변수 count\n",
    "* 주사위의 각 면에는 1 ~ 6까지의 눈이 새겨져 있고, 각 숫자는 무작위로 나옵니다.(randint 함수 사용)\n",
    "* n번 시행후, 두 주사위 숫자 합의 평균을 구해 봅시다.\n",
    "\n",
    "* 힌트 : 두 주사위를 던져 나온 수의 합을 각각 리스트에 저장하고, sum 함수와 len 함수를 이용하여 평균을 구해 봅시다."
   ]
  },
  {
   "cell_type": "code",
   "execution_count": 16,
   "id": "f759069f",
   "metadata": {},
   "outputs": [
    {
     "name": "stdout",
     "output_type": "stream",
     "text": [
      "56\n",
      "[10, 8, 10, 7, 9, 12, 12, 9, 7, 8, 5, 8, 7, 11, 8, 7, 2, 7, 8, 8, 7, 2, 12, 8, 5, 7, 7, 10, 5, 9, 7, 7, 3, 5, 10, 10, 8, 5, 6, 8, 8, 9, 11, 8, 10, 7, 8, 10, 10, 4, 4, 10, 11, 12, 6, 7]\n",
      "7.839285714285714\n"
     ]
    }
   ],
   "source": [
    "count = int(input())\n",
    "dice = []\n",
    "\n",
    "for i in range(count) : \n",
    "    n1 = rd.randint(1,6)\n",
    "    n2 = rd.randint(1,6)\n",
    "    dice.append(n1 + n2)\n",
    "    \n",
    "print(dice)\n",
    "print(sum(dice)/count)\n",
    "\n"
   ]
  },
  {
   "cell_type": "code",
   "execution_count": null,
   "id": "74a3c315",
   "metadata": {},
   "outputs": [],
   "source": [
    "count = 0\n",
    "L1 = []\n",
    "import random as rd\n",
    "\n",
    "\n",
    "while count < 10 :\n",
    "    L1.append(rd.randint(1,6) + rd.randint(1,6))\n",
    "    count += 1\n",
    "    \n",
    "print(sum(L1) / len(L1))\n",
    "\n",
    "\n"
   ]
  }
 ],
 "metadata": {
  "colab": {
   "collapsed_sections": [],
   "name": "12과 [실습] 자료형 - set,tuple & 모듈 불러오기.ipynb",
   "provenance": []
  },
  "kernelspec": {
   "display_name": "Python 3 (ipykernel)",
   "language": "python",
   "name": "python3"
  },
  "language_info": {
   "codemirror_mode": {
    "name": "ipython",
    "version": 3
   },
   "file_extension": ".py",
   "mimetype": "text/x-python",
   "name": "python",
   "nbconvert_exporter": "python",
   "pygments_lexer": "ipython3",
   "version": "3.9.7"
  }
 },
 "nbformat": 4,
 "nbformat_minor": 5
}
